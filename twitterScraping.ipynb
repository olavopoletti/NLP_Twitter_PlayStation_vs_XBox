{
 "cells": [
  {
   "cell_type": "code",
   "execution_count": 1,
   "metadata": {},
   "outputs": [],
   "source": [
    "# Imports\n",
    "import os\n",
    "import time"
   ]
  },
  {
   "cell_type": "code",
   "execution_count": 4,
   "metadata": {},
   "outputs": [
    {
     "name": "stdout",
     "output_type": "stream",
     "text": [
      "[('2006-06-15', '2008-06-14'), ('2008-06-15', '2010-06-14'), ('2010-06-15', '2012-06-14'), ('2012-06-15', '2014-06-14'), ('2014-06-15', '2016-06-14'), ('2016-06-15', '2018-06-14'), ('2018-06-15', '2020-06-14'), ('2020-06-15', '2022-06-14'), ('2022-06-15', '2022-08-15')]\n"
     ]
    }
   ],
   "source": [
    "# The period under analysis - breaking it into two-year periods to produce smaller files\n",
    "dates = [(f\"20{y:02}\" + \"-06-15\", f\"20{y + 2:02}\" + \"-06-14\") \\\n",
    "         for y in range(6, 21, 2)] + [(\"2022-06-15\", \"2022-08-15\")]\n"
   ]
  },
  {
   "cell_type": "code",
   "execution_count": 7,
   "metadata": {},
   "outputs": [],
   "source": [
    "# Terms searched\n",
    "terms = [\"xbox\", \"ps1\", \"ps2\", \"ps3\", \"ps4\", \"ps5\", \"Playstation\"]"
   ]
  },
  {
   "cell_type": "code",
   "execution_count": 4,
   "metadata": {},
   "outputs": [
    {
     "name": "stdout",
     "output_type": "stream",
     "text": [
      "snscrape --jsonl --since {} twitter-search \"{} until:{}\">tweets_{}_{}_{}.json\n"
     ]
    }
   ],
   "source": [
    "# The parameters to be used by Snscrape - it will use the CLI\n",
    "scrape = 'snscrape --jsonl --since {} twitter-search \"{} until:{}\">' \\\n",
    "        + 'tweets_{}_{}_{}.json' # The output is a json file containing all tweets matching the search"
   ]
  },
  {
   "cell_type": "code",
   "execution_count": 5,
   "metadata": {},
   "outputs": [],
   "source": [
    "# Scraping for each search term\n",
    "for t in terms:\n",
    "    for d in dates:\n",
    "        os.system(scrape.format(d[0], t, d[1], d[0], d[1], t))\n",
    "        time.sleep(60)"
   ]
  }
 ],
 "metadata": {
  "kernelspec": {
   "display_name": "Python 3.9.12 ('base')",
   "language": "python",
   "name": "python3"
  },
  "language_info": {
   "codemirror_mode": {
    "name": "ipython",
    "version": 3
   },
   "file_extension": ".py",
   "mimetype": "text/x-python",
   "name": "python",
   "nbconvert_exporter": "python",
   "pygments_lexer": "ipython3",
   "version": "3.9.12"
  },
  "orig_nbformat": 4,
  "vscode": {
   "interpreter": {
    "hash": "413f5215cca76903c75de145955d347394fa539ab263de9aeb004c7ff4086f11"
   }
  }
 },
 "nbformat": 4,
 "nbformat_minor": 2
}
