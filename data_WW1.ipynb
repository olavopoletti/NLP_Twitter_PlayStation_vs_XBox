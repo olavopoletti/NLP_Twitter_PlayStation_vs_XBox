{
 "cells": [
  {
   "cell_type": "code",
   "execution_count": 1,
   "metadata": {},
   "outputs": [],
   "source": [
    "# Imports\n",
    "import json\n",
    "import numpy as np\n",
    "import pandas as pd"
   ]
  },
  {
   "cell_type": "code",
   "execution_count": 2,
   "metadata": {},
   "outputs": [],
   "source": [
    "df = pd.read_parquet(r'clean_tweets_2012-06-15_2014-06-14_ps3.parquet')"
   ]
  },
  {
   "cell_type": "code",
   "execution_count": 3,
   "metadata": {},
   "outputs": [
    {
     "data": {
      "text/plain": [
       "date            datetime64[ns, UTC]\n",
       "rawContent                   object\n",
       "id                          float64\n",
       "replyCount                    int64\n",
       "retweetCount                  int64\n",
       "likeCount                     int64\n",
       "quoteCount                    int64\n",
       "lang                         object\n",
       "hashtags                     object\n",
       "name                         object\n",
       "location                     object\n",
       "language                     object\n",
       "tweet                        object\n",
       "clean_tweet                  object\n",
       "token                        object\n",
       "punctuation                  object\n",
       "stop_words                   object\n",
       "cleaner                      object\n",
       "clean_tokens                 object\n",
       "lemmas                       object\n",
       "clean_lemmas                 object\n",
       "dtype: object"
      ]
     },
     "execution_count": 3,
     "metadata": {},
     "output_type": "execute_result"
    }
   ],
   "source": [
    "df.dtypes"
   ]
  },
  {
   "cell_type": "code",
   "execution_count": 5,
   "metadata": {},
   "outputs": [
    {
     "data": {
      "text/plain": [
       "array(['qst', 'art', 'sd', 'ckb', 'bn', 'ml', 'am', 'km', 'or'],\n",
       "      dtype=object)"
      ]
     },
     "execution_count": 5,
     "metadata": {},
     "output_type": "execute_result"
    }
   ],
   "source": [
    "df[df.language == 'Not Found'].lang.unique()"
   ]
  },
  {
   "cell_type": "code",
   "execution_count": 2,
   "metadata": {},
   "outputs": [],
   "source": [
    "df1 = pd.read_parquet(r'C:\\Users\\olavo\\OneDrive\\Documentos\\Eikos\\WordWars_1\\data_WW1\\tweets_Xbox.parquet')\n"
   ]
  },
  {
   "cell_type": "code",
   "execution_count": 3,
   "metadata": {},
   "outputs": [
    {
     "data": {
      "text/plain": [
       "array(['ckb', 'ml', 'bn'], dtype=object)"
      ]
     },
     "execution_count": 3,
     "metadata": {},
     "output_type": "execute_result"
    }
   ],
   "source": [
    "df1[df1.language == 'Not Found'].lang.unique()"
   ]
  },
  {
   "cell_type": "code",
   "execution_count": 53,
   "metadata": {},
   "outputs": [],
   "source": [
    "languages = {\n",
    "            'und': 'undetected',\n",
    "            'af': 'Afrikaans', 'af-ZA': 'Afrikaans', 'ar': 'Arabic',\n",
    "            'ar-AE': 'Arabic', 'ar-BH': 'Arabic', 'ar-DZ': 'Arabic', \n",
    "            'ar-EG': 'Arabic', 'ar-IQ': 'Arabic', 'ar-JO': 'Arabic',\n",
    "            'ar-KW': 'Arabic', 'ar-LB': 'Arabic', 'ar-LY': 'Arabic',\n",
    "            'ar-MA': 'Arabic', 'ar-OM': 'Arabic', 'ar-QA': 'Arabic',\n",
    "            'ar-SA': 'Arabic', 'ar-SY': 'Arabic', 'ar-SY': 'Arabic',\n",
    "            'ar-YE': 'Arabic', 'az': 'Azeri', 'az-AZ': 'Azeri',\n",
    "            'art': 'Artificial languages', 'bn': 'Bengali', 'am': 'Amharic',\n",
    "            'be': 'Belarusian', 'be-BY': 'Belarusian', 'bg': 'Bulgarian',\n",
    "            'bg-BG': 'Bulgarian', 'bs-BA': 'Bosnian', 'ca': 'Catalan',\n",
    "            'ca-ES': 'Catalan', 'cs': 'Czech', 'cs-CZ': 'Czech', 'cy': 'Welsh',\n",
    "            'cy-GB': 'Welsh','da': 'Danish', 'da-DK': 'Danish', 'de': 'German',\n",
    "            'ckb': 'Central Kurdish',\n",
    "            'de-AT': 'German', 'de-CH': 'German', 'de-DE': 'German',\n",
    "            'de-LI': 'German', 'de-LU': 'German', 'dv': 'Divehi',\n",
    "            'dv-MV': 'Divehi', 'el': 'Greek', 'el-GR': 'Greek',\n",
    "            'en': 'English', 'en': 'English', 'en-AU': 'English',\n",
    "            'en-BZ': 'English', 'en-CA': 'English', 'en-CB': 'English',\n",
    "            'en-GB': 'English', 'en-IE': 'English', 'en-JM': 'English',\n",
    "            'en-NZ': 'English', 'en-PH': 'English', 'en-TT': 'English',\n",
    "            'en-US': 'English', 'en-ZA': 'English', 'en-ZW': 'English',\n",
    "            'eo': 'Esperanto', 'es': 'Spanish', 'es-AR': 'Spanish',\n",
    "            'es-BO': 'Spanish', 'es-CL': 'Spanish', 'es-CO': 'Spanish',\n",
    "            'es-CR': 'Spanish', 'es-DO': 'Spanish', 'es-EC': 'Spanish',\n",
    "            'es-ES': 'Spanish', 'es-GT': 'Spanish', 'es-HN': 'Spanish',\n",
    "            'es-MX': 'Spanish', 'es-NI': 'Spanish', 'es-PA': 'Spanish',\n",
    "            'es-PE': 'Spanish', 'es-PR': 'Spanish', 'es-PY': 'Spanish',\n",
    "            'es-SV': 'Spanish', 'es-UY': 'Spanish', 'es-VE': 'Spanish',\n",
    "            'et': 'Estonian', 'et-EE': 'Estonian', 'eu': 'Basque',\n",
    "            'eu-ES': 'Basque', 'fa': 'Farsi', 'fa-IR': 'Farsi',\n",
    "            'fi': 'Finnish', 'fi-FI': 'Finnish', 'fo': 'Faroese',\n",
    "            'fo-FR': 'Faroese', 'fr': 'French', 'fr-BE': 'French',\n",
    "            'fr-CA': 'French', 'fr-CH': 'French', 'fr-FR': 'French',\n",
    "            'fr-LU': 'French', 'fr-MC': 'French', 'gl': 'Galician',\n",
    "            'gl-ES': 'Galician', 'gu': 'Gujarati', 'gu-IN': 'Gujarati',\n",
    "            'he': 'Hebrew', 'he-IL': 'Hebrew', 'hi': 'Hindi', 'hi-IN': 'Hindi',\n",
    "            'hr': 'Croatian', 'hr-BA': 'Croatian', 'hr-HR': 'Croatian',\n",
    "            'ht': 'Haitian', 'hu': 'Hungarian', 'hu-HU': 'Hungarian', 'hy': '',\n",
    "            'ny': 'Armenian', 'ny-AM': 'Armenian', 'id': 'Indonesian',\n",
    "            'id-ID': 'Indonesian', 'is': 'Icelandic', 'is-IS': 'Icelandic',\n",
    "            'it': 'Italian', 'it-CH': 'Italian', 'it-IT': 'Italian',\n",
    "            'iw': 'Hebrew',\n",
    "            'ja': 'Japanese', 'ja-JP': 'Japanese', 'ka': 'Georgian',\n",
    "            'ka-GE': 'Georgian', 'ka': 'Georgian', 'ka-GE': 'Georgian',\n",
    "            'kk': 'Kazakh', 'kk-KZ': 'Kazakh', 'kn': 'Kannada',\n",
    "            'kn-IN': 'Kannada', 'in': 'Indonesian', 'ind': 'Indonesian',\n",
    "            'ko': 'Korean', 'km': 'Khmer',\n",
    "            'ko-KR': 'Korean', 'kok': 'Konkani', 'kok-IN': 'Konkani',\n",
    "            'ky': 'Kyrgyz', 'ky-KG': 'Kyrgyz', 'lt': 'Lithuanian',\n",
    "            'lt-LT': 'Lithuanian', 'lv': 'Latvian', 'lv-LV': 'Latvian',\n",
    "            'lo': 'Lao', 'ml': 'Malayalam',\n",
    "            'mi': 'Maori', 'mi-NZ': 'Maori', 'mk': 'FYRO Macedonian',\n",
    "            'mk-MK': 'FYRO Macedonian', 'mn': 'Mongolian', 'mn-MN': 'Mongolian',\n",
    "            'mr': 'Marathi', 'mr-IN': 'Marathi', 'ms': 'Malay',\n",
    "            'ms-BN': 'Malay', 'ms-MY': 'Malay', 'mt': 'Maltese',\n",
    "            'mt-MT': 'Maltese', 'nb': 'Norwegian', 'no': 'Norwegian',\n",
    "            'my': 'Malay', 'nb-NO': 'Norwegian', 'ne': 'Nepali',\n",
    "            'nl': 'Dutch', 'nl-BE': 'Dutch', 'nl-NL': 'Dutch', \n",
    "            'nn-NO': 'Norwegian', 'ns': 'Northern Sotho', 'or': 'Oriya',\n",
    "            'ns-ZA': 'Northern Sotho', 'pa': 'Punjabi', 'pa-IN': 'Punjabi',\n",
    "            'pl': 'Polish', 'pl-PL': 'Polish', 'ps': 'Pashto', \n",
    "            'ps-AR': 'Pashto', 'pt': 'Portuguese', 'pt-BR': 'Portuguese',\n",
    "            'pt-PT': 'Portuguese', 'qu': 'Quechua', 'qu-BO': 'Quechua',\n",
    "            'qu-EC': 'Quechua', 'qu-PE': 'Quechua', 'qme': '', 'qht': '',\n",
    "            'qam': '', 'ro': 'Romanian',\n",
    "            'qst': 'Relexified Portuguese-Based Creole',\n",
    "            'ro-RO': 'Romanian', 'ru': 'Russian', 'ru-RU': 'Russian',\n",
    "            'sa': 'Sanskrit', 'sa-IN': 'Sanskrit', 'se': 'Sami',\n",
    "            'se-FI': 'Sami', 'se-NO': 'Sami', 'se-SE': 'Sami', 'sk': 'Slovak',\n",
    "            'si': 'Sinhala', 'sd': 'Sindhi',\n",
    "            'sk-SK': 'Slovak', 'sl': 'Slovenian', 'sl-SI': 'Slovenian',\n",
    "            'sq': 'Albanian', 'sq-AL': 'Albanian', 'sr': 'Serbian', \n",
    "            'sr-BA': 'Serbian',\n",
    "            'sr-SP': 'Serbian', 'sv': 'Swedish', 'sv-FI': 'Swedish',\n",
    "            'sv-SE': 'Swedish', 'sw': 'Swahili', 'sw-KE': 'Swahili',\n",
    "            'syr': 'Syriac', 'syr-SY': 'Syriac', 'ta': 'Tamil',\n",
    "            'ta-IN': 'Tamil', 'te': 'Telugu', 'te-IN': 'Telugu', 'th': 'Thai',\n",
    "            'th-TH': 'Thai', 'tl': 'Tagalog', 'tl': 'Tagalog',\n",
    "            'tl-PH': 'Tagalog', 'tn': 'Tswana', 'tn--ZA': 'Tswana',\n",
    "            'tr': 'Turkish', 'tr-TR': 'Turkish', 'tt': 'Tatar',\n",
    "            'tt-RU': 'Tatar','ts': 'Tsonga', 'uk': 'Ukrainian',\n",
    "            'uk-UA': 'Ukrainian', 'ur': 'Urdu', 'ur-PK': 'Urdu', 'uz': 'Uzbek',\n",
    "            'uz-UZ': 'Uzbek', 'vi': 'Vietnamese', 'vi-VI': 'Vietnamese',\n",
    "            'xh': 'Xhosa', 'xh-ZA': 'Xhosa', 'zh': 'Chinese',\n",
    "            'zh-CN': 'Chinese', 'zh-HK': 'Chinese', 'zh-MO': 'Chinese',\n",
    "            'zh-SG': 'Chinese', 'zh-TW': 'Chinese', 'zu': 'Zulu',\n",
    "            'zu-ZA': 'Zulu', 'zxx': 'No linguistic content'          \n",
    "            }"
   ]
  },
  {
   "cell_type": "code",
   "execution_count": 54,
   "metadata": {},
   "outputs": [
    {
     "data": {
      "text/plain": [
       "array(['en', 'es', 'pt', 'et', 'und', 'fr', 'ar', 'ru', 'de', 'ja', 'in',\n",
       "       'lv', 'fi', 'nl', 'cs', 'qme', 'lt', 'hu', 'tl', 'pl', 'it', 'sv',\n",
       "       'tr', 'th', 'da', 'ca', 'no', 'ro', 'qam', 'ht', 'zh', 'sl', 'fa',\n",
       "       'uk', 'iw', 'ko', 'cy', 'qht', 'el', 'ka', 'bg', 'is', 'vi', 'hi',\n",
       "       'lo', 'eu', 'hy'], dtype=object)"
      ]
     },
     "execution_count": 54,
     "metadata": {},
     "output_type": "execute_result"
    }
   ],
   "source": [
    "df.lang.unique()"
   ]
  },
  {
   "cell_type": "code",
   "execution_count": null,
   "metadata": {},
   "outputs": [],
   "source": [
    "# Brands under analysis\n",
    "brands = ['Xbox', 'Playstation']\n",
    "\n",
    "# Path to the files directory\n",
    "files_path = r\"C:\\Users\\olavo\\OneDrive\\Documentos\\Eikos\\WordWars_1\\data_WW1\"\n",
    "\n",
    "# Search terms\n",
    "terms_X = ['xbox']\n",
    "terms_PS = [\"ps1\", \"ps2\", \"ps3\", \"ps4\", \"ps5\", \"playstation\"]\n",
    "\n",
    "# Listing files\n",
    "files_X = []\n",
    "for f in [glob.glob('{}\\*{}.json'.format(files_path, k)) for k in terms_X]:\n",
    "    files_X.extend(f)\n",
    "\n",
    "files_PS = []\n",
    "for f in [glob.glob('{}\\*{}.json'.format(files_path, k)) for k in terms_PS]:\n",
    "    files_PS.extend(f)"
   ]
  }
 ],
 "metadata": {
  "kernelspec": {
   "display_name": "Python 3.9.12 ('base')",
   "language": "python",
   "name": "python3"
  },
  "language_info": {
   "codemirror_mode": {
    "name": "ipython",
    "version": 3
   },
   "file_extension": ".py",
   "mimetype": "text/x-python",
   "name": "python",
   "nbconvert_exporter": "python",
   "pygments_lexer": "ipython3",
   "version": "3.9.12"
  },
  "orig_nbformat": 4,
  "vscode": {
   "interpreter": {
    "hash": "413f5215cca76903c75de145955d347394fa539ab263de9aeb004c7ff4086f11"
   }
  }
 },
 "nbformat": 4,
 "nbformat_minor": 2
}
